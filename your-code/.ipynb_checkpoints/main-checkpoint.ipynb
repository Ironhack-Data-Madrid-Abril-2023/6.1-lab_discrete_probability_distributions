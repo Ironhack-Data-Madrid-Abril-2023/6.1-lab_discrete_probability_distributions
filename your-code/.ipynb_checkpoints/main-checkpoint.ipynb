{
 "cells": [
  {
   "cell_type": "markdown",
   "metadata": {},
   "source": [
    "# Before your start:\n",
    "\n",
    "    Read the README.md file\n",
    "    Comment as much as you can and use the resources (README.md file)\n",
    "    Happy learning!\n",
    "\n",
    "*Notes:* \n",
    "\n",
    "- Solve the questions with python.\n",
    "\n",
    "- Round the final answer to three decimal places."
   ]
  },
  {
   "cell_type": "markdown",
   "metadata": {},
   "source": [
    "## Bernoulli's Distribution\n",
    "\n",
    "In a basket containing 100 fruits, there are 60 apples and 40 oranges. \n",
    "\n",
    "A fruit is picked randomly from the basket. \n",
    "\n",
    "1. **What is the probability that the fruit is apple?**\n",
    "1. **What is the probability that it is an orange?**"
   ]
  },
  {
   "cell_type": "code",
   "execution_count": 9,
   "metadata": {},
   "outputs": [],
   "source": [
    "\"\"\"\n",
    "Calculate:\n",
    "p = probability that the fruit is an apple \n",
    "q = probability that the fruit is an orange\n",
    "\"\"\"\n",
    "\n",
    "# your code here\n",
    "\n",
    "from scipy.stats import bernoulli\n",
    "\n",
    "p = 0.6\n",
    "q = 0.4"
   ]
  },
  {
   "cell_type": "markdown",
   "metadata": {},
   "source": [
    "Now we take a random sample of 20 fruits from the basket. After each fruit is taken, a new fruit of the same type is replaced in the basket. Therefore, every time we are taking 1 fruit from 100 fruits. \n",
    "\n",
    "1. **What is the probability that the first 5 fruits are all apples?**\n",
    "\n",
    "1. **What is the probability that the first 5 fruits are all apples and the next 15 fruits are all oranges?**\n",
    "\n",
    "You can include the `p` and `q` probabilities you previous calculated in your solution."
   ]
  },
  {
   "cell_type": "code",
   "execution_count": 5,
   "metadata": {},
   "outputs": [
    {
     "name": "stdout",
     "output_type": "stream",
     "text": [
      "0.07775999999999998\n"
     ]
    },
    {
     "data": {
      "text/plain": [
       "8.349416423424006e-08"
      ]
     },
     "execution_count": 5,
     "metadata": {},
     "output_type": "execute_result"
    }
   ],
   "source": [
    "# your code here\n",
    "\n",
    "# La probabilidad de que salgan 5 veces manzanas es el producto de 5 veces su probabilidad:\n",
    "\n",
    "resultado = 0.6**5\n",
    "print(resultado)\n",
    "\n",
    "# La probabilidad de que además las 15 siguientes sean naranjas será la multiplicación de las probabilidades de ambas:\n",
    "\n",
    "resultado_2 = (0.6**5) * (0.4**15)\n",
    "resultado_2"
   ]
  },
  {
   "cell_type": "markdown",
   "metadata": {},
   "source": [
    "## Binomial Distribution\n",
    "\n",
    "Similar to the above problem, this time again we randomly sample 20 fruits.\n",
    "\n",
    "**What is the probability that this time the sample contains 5 apples and 15 oranges?**\n",
    "\n",
    "Please note that this time the order of the fruits being picked does not matter."
   ]
  },
  {
   "cell_type": "code",
   "execution_count": 11,
   "metadata": {},
   "outputs": [
    {
     "data": {
      "text/plain": [
       "0.0012944935222876579"
      ]
     },
     "execution_count": 11,
     "metadata": {},
     "output_type": "execute_result"
    }
   ],
   "source": [
    "# your code here\n",
    "\n",
    "import math\n",
    "import numpy as np\n",
    "\n",
    "n = 20\n",
    "k = 5\n",
    "p = 0.6\n",
    "\n",
    "probabilidad = math.comb(n, k) * pow(p, k) * pow(1-p, n-k)\n",
    "\n",
    "probabilidad"
   ]
  },
  {
   "cell_type": "markdown",
   "metadata": {},
   "source": [
    "In the lesson we also discussed CDF (cumulative distribution function). In the context of the above problem, **what is the probability that less than 5 fruits picked are apples?**\n",
    "\n",
    "Write the formula and calculate the probability below."
   ]
  },
  {
   "cell_type": "code",
   "execution_count": 7,
   "metadata": {},
   "outputs": [
    {
     "name": "stdout",
     "output_type": "stream",
     "text": [
      "4.73449706920346e-05\n"
     ]
    }
   ],
   "source": [
    "# your code here\n",
    "\n",
    "n = 20\n",
    "k = 5 - 1    # ahora esto cambia porque es menos que 5\n",
    "p = 0.6\n",
    "\n",
    "prob = sum(math.comb(n, i) * pow(p, i) * pow(1-p, n-i) for i in range(k))\n",
    "\n",
    "prob"
   ]
  },
  {
   "cell_type": "code",
   "execution_count": null,
   "metadata": {},
   "outputs": [],
   "source": [
    "Plot the PDF (probability distributiom function) for the above binomial distribution.\n",
    "\n",
    "Hint: The range of x in a binomial distribution is from 0 to n."
   ]
  },
  {
   "cell_type": "code",
   "execution_count": 15,
   "metadata": {},
   "outputs": [
    {
     "data": {
      "image/png": "[encoded data removed]",
      "text/plain": [
       "<Figure size 640x480 with 1 Axes>"
      ]
     },
     "metadata": {},
     "output_type": "display_data"
    }
   ],
   "source": [
    "# your code here\n",
    "# Please label the axes and give a title to the plot \n",
    "\n",
    "import matplotlib.pyplot as plt\n",
    "\n",
    "n = 20\n",
    "p = 0.6\n",
    "\n",
    "x = range(n+1)\n",
    "y = [math.comb(n, i) * p**i * (1-p)**(n-i) for i in x]\n",
    "\n",
    "plt.plot(x, y, 'bo')\n",
    "plt.vlines(x, 0, y, colors='b', lw=5, alpha=0.5)\n",
    "plt.xlabel('Number of Apples Selected')\n",
    "plt.ylabel('Probability')\n",
    "plt.title('Binomial Distribution')\n",
    "plt.show()"
   ]
  },
  {
   "cell_type": "markdown",
   "metadata": {},
   "source": [
    "## Poisson Distribution\n",
    "\n",
    "In this challenge you are required to use the Math library in python to solve the problems.\n",
    "\n",
    "In the UEFA champions league tournament, the average number of goals scored in a match is 2.3. \n",
    "\n",
    "**What is the probability that the number of goals scored in a match is 5?**\n",
    "\n",
    "*Hint: Use the exp() in the math library*\n",
    "\n",
    "And to calculate the factorial, you can use the following code:\n",
    "\n",
    "```python\n",
    "import math\n",
    "math.factorial(n) # n is the number you want to find the factorial of\n",
    "```"
   ]
  },
  {
   "cell_type": "code",
   "execution_count": 10,
   "metadata": {},
   "outputs": [
    {
     "name": "stdout",
     "output_type": "stream",
     "text": [
      "Probabilidad de 5 goles = 0.0538\n",
      "Probabilidad de más de 5 = 0.0838\n"
     ]
    }
   ],
   "source": [
    "# your code here \n",
    "\n",
    "avg_goals = 2.3\n",
    "\n",
    "goals = 5\n",
    "\n",
    "prob = (avg_goals**goals * math.exp(-avg_goals)) / math.factorial(goals)\n",
    "\n",
    "# Calculamos ahora para 5 goles\n",
    "prob_5_or_more = sum([(avg_goals**i * math.exp(-avg_goals)) / math.factorial(i) for i in range(5, 100)])\n",
    "\n",
    "print(f\"Probabilidad de {goals} goles = {prob:.4f}\")\n",
    "print(f\"Probabilidad de más de 5 = {prob_5_or_more:.4f}\")"
   ]
  },
  {
   "cell_type": "markdown",
   "metadata": {},
   "source": [
    "**Draw a poisson probability distribution plot for the number of goals to be between 0 to 10.**"
   ]
  },
  {
   "cell_type": "code",
   "execution_count": 13,
   "metadata": {},
   "outputs": [
    {
     "data": {
      "image/png": "[encoded data removed]",
      "text/plain": [
       "<Figure size 640x480 with 1 Axes>"
      ]
     },
     "metadata": {},
     "output_type": "display_data"
    }
   ],
   "source": [
    "# your code here\n",
    "# Please label the axes and give a title to the plot \n",
    "\n",
    "avg_goals = 2.3\n",
    "\n",
    "# Hago una función para calcular los k goles:\n",
    "def poisson(k):\n",
    "    return (avg_goals ** k * np.exp(-avg_goals)) / math.factorial(k)\n",
    "\n",
    "# Saco un array con los goles desde 0 hasta 10\n",
    "goals = np.arange(0, 11)\n",
    "\n",
    "# Saco otro array para las probabilidades\n",
    "probs = np.array([poisson(k) for k in goals])\n",
    "\n",
    "# Gráfica\n",
    "plt.bar(goals, probs)\n",
    "plt.title(\"Poisson Probability Distribution\")\n",
    "plt.xlabel(\"Number of goals\")\n",
    "plt.ylabel(\"Probability\")\n",
    "plt.show()"
   ]
  }
 ],
 "metadata": {
  "kernelspec": {
   "display_name": "Python 3 (ipykernel)",
   "language": "python",
   "name": "python3"
  },
  "language_info": {
   "codemirror_mode": {
    "name": "ipython",
    "version": 3
   },
   "file_extension": ".py",
   "mimetype": "text/x-python",
   "name": "python",
   "nbconvert_exporter": "python",
   "pygments_lexer": "ipython3",
   "version": "3.9.16"
  }
 },
 "nbformat": 4,
 "nbformat_minor": 2
}
