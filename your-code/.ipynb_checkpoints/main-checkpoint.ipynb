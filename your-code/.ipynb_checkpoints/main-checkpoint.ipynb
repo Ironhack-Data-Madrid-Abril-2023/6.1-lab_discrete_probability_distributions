{
 "cells": [
  {
   "cell_type": "markdown",
   "metadata": {},
   "source": [
    "# Before your start:\n",
    "\n",
    "    Read the README.md file\n",
    "    Comment as much as you can and use the resources (README.md file)\n",
    "    Happy learning!\n",
    "\n",
    "*Notes:* \n",
    "\n",
    "- Solve the questions with python.\n",
    "\n",
    "- Round the final answer to three decimal places."
   ]
  },
  {
   "cell_type": "markdown",
   "metadata": {},
   "source": [
    "## Bernoulli's Distribution\n",
    "\n",
    "In a basket containing 100 fruits, there are 60 apples and 40 oranges. \n",
    "\n",
    "A fruit is picked randomly from the basket. \n",
    "\n",
    "1. **What is the probability that the fruit is apple?**\n",
    "1. **What is the probability that it is an orange?**"
   ]
  },
  {
   "cell_type": "code",
   "execution_count": 2,
   "metadata": {},
   "outputs": [
    {
     "name": "stdout",
     "output_type": "stream",
     "text": [
      "The probability of picking an apple is: 0.60\n",
      "The probability of picking an orange is: 0.40\n"
     ]
    }
   ],
   "source": [
    "\"\"\"\n",
    "Calculate:\n",
    "p = probability that the fruit is an apple \n",
    "q = probability that the fruit is an orange\n",
    "\"\"\"\n",
    "\n",
    "# calculo de la probabilidad \n",
    "apple_p = 60 / 100\n",
    "orange_p = 40 / 100\n",
    "\n",
    "# imprimir las pobrabilidades\n",
    "print(f\"The probability of picking an apple is: {apple_p:.2f}\")\n",
    "print(f\"The probability of picking an orange is: {orange_p:.2f}\")"
   ]
  },
  {
   "cell_type": "markdown",
   "metadata": {},
   "source": [
    "Now we take a random sample of 20 fruits from the basket. After each fruit is taken, a new fruit of the same type is replaced in the basket. Therefore, every time we are taking 1 fruit from 100 fruits. \n",
    "\n",
    "1. **What is the probability that the first 5 fruits are all apples?**\n",
    "\n",
    "1. **What is the probability that the first 5 fruits are all apples and the next 15 fruits are all oranges?**\n",
    "\n",
    "You can include the `p` and `q` probabilities you previous calculated in your solution."
   ]
  },
  {
   "cell_type": "code",
   "execution_count": 4,
   "metadata": {},
   "outputs": [
    {
     "name": "stdout",
     "output_type": "stream",
     "text": [
      "The probability that the first 5 fruits are all apples: 0.077760\n",
      "The probability that the first 5 fruits are all apples and the next 15 fruits are all oranges: 0.000000\n"
     ]
    }
   ],
   "source": [
    "apple_probability = 0.6\n",
    "orange_probability = 0.4\n",
    "\n",
    "# Probability of the first 5 fruits being apples\n",
    "prob_5_apples = apple_probability ** 5\n",
    "\n",
    "# Probability of the first 5 fruits being apples and the next 15 fruits being oranges\n",
    "prob_5_apples_15_oranges = prob_5_apples * (orange_probability ** 15)\n",
    "\n",
    "# Print the probabilities\n",
    "print(f\"The probability that the first 5 fruits are all apples: {prob_5_apples:.6f}\")\n",
    "print(f\"The probability that the first 5 fruits are all apples and the next 15 fruits are all oranges: {prob_5_apples_15_oranges:.6f}\")"
   ]
  },
  {
   "cell_type": "markdown",
   "metadata": {},
   "source": [
    "## Binomial Distribution\n",
    "\n",
    "Similar to the above problem, this time again we randomly sample 20 fruits.\n",
    "\n",
    "**What is the probability that this time the sample contains 5 apples and 15 oranges?**\n",
    "\n",
    "Please note that this time the order of the fruits being picked does not matter."
   ]
  },
  {
   "cell_type": "code",
   "execution_count": 5,
   "metadata": {},
   "outputs": [
    {
     "name": "stdout",
     "output_type": "stream",
     "text": [
      "The probability of obtaining exactly 5 apples and 15 oranges: 0.001294\n"
     ]
    }
   ],
   "source": [
    "import math\n",
    "\n",
    "# Calcula la probabilidad\n",
    "apple_probability = 0.6\n",
    "orange_probability = 0.4\n",
    "n = 20  # Numero total de frutas cogidas\n",
    "k = 5   # Numero de manzanas\n",
    "\n",
    "# Calculate the binomial coefficient (n choose k)\n",
    "binomial_coefficient = math.comb(n, k)\n",
    "\n",
    "# Calculate the probability of obtaining exactly 5 apples and 15 oranges\n",
    "probability_5_apples = binomial_coefficient * (apple_probability ** k) * (orange_probability ** (n - k))\n",
    "\n",
    "\n",
    "print(f\"The probability of obtaining exactly 5 apples and 15 oranges: {probability_5_apples:.6f}\")"
   ]
  },
  {
   "cell_type": "markdown",
   "metadata": {},
   "source": [
    "In the lesson we also discussed CDF (cumulative distribution function). In the context of the above problem, **what is the probability that less than 5 fruits picked are apples?**\n",
    "\n",
    "Write the formula and calculate the probability below."
   ]
  },
  {
   "cell_type": "code",
   "execution_count": 6,
   "metadata": {},
   "outputs": [
    {
     "name": "stdout",
     "output_type": "stream",
     "text": [
      "The probability of picking less than 5 apples: 0.000317\n"
     ]
    }
   ],
   "source": [
    "apple_probability = 0.6\n",
    "orange_probability = 0.4\n",
    "n = 20  # Total number of fruits picked\n",
    "k = 4   # Number of apples (less than 5)\n",
    "\n",
    "# Initialize the cumulative probability\n",
    "cumulative_probability = 0\n",
    "\n",
    "# Calculate the cumulative probability of picking less than 5 apples\n",
    "for i in range(k + 1):\n",
    "    binomial_coefficient = math.comb(n, i)\n",
    "    cumulative_probability += binomial_coefficient * (apple_probability ** i) * (orange_probability ** (n - i))\n",
    "\n",
    "# Print the probability\n",
    "print(f\"The probability of picking less than 5 apples: {cumulative_probability:.6f}\")"
   ]
  },
  {
   "cell_type": "markdown",
   "metadata": {},
   "source": [
    "**Plot the PDF (probability distributiom function) for the above binomial distribution.**\n",
    "\n",
    "*Hint: The range of x in a binomial distribution is from `0` to `n`.*"
   ]
  },
  {
   "cell_type": "code",
   "execution_count": 8,
   "metadata": {},
   "outputs": [
    {
     "data": {
      "image/png": "[encoded data removed]",
      "text/plain": [
       "<Figure size 640x480 with 1 Axes>"
      ]
     },
     "metadata": {},
     "output_type": "display_data"
    }
   ],
   "source": [
    "# your code here\n",
    "# Please label the axes and give a title to the plot \n",
    "\n",
    "import matplotlib.pyplot as plt\n",
    "\n",
    "\n",
    "# probabilidades\n",
    "apple_probability = 0.6\n",
    "orange_probability = 0.4\n",
    "n = 20  # Total number of fruits picked\n",
    "\n",
    "# Initialize lists to store the x and y values for the PDF\n",
    "x_values = list(range(n + 1))\n",
    "y_values = []\n",
    "\n",
    "# Calculate the probability for each value of x\n",
    "for x in x_values:\n",
    "    binomial_coefficient = math.comb(n, x)\n",
    "    probability = binomial_coefficient * (apple_probability ** x) * (orange_probability ** (n - x))\n",
    "    y_values.append(probability)\n",
    "\n",
    "# Plot the PDF\n",
    "plt.bar(x_values, y_values)\n",
    "plt.xlabel('Number of Apples')\n",
    "plt.ylabel('Probability')\n",
    "plt.title('Binomial Distribution (n=20, p=0.6)')\n",
    "plt.show()\n",
    "\n",
    "\n",
    "\n"
   ]
  },
  {
   "cell_type": "markdown",
   "metadata": {},
   "source": [
    "## Poisson Distribution\n",
    "\n",
    "In this challenge you are required to use the Math library in python to solve the problems.\n",
    "\n",
    "In the UEFA champions league tournament, the average number of goals scored in a match is 2.3. \n",
    "\n",
    "**What is the probability that the number of goals scored in a match is 5?**\n",
    "\n",
    "*Hint: Use the exp() in the math library*\n",
    "\n",
    "And to calculate the factorial, you can use the following code:\n",
    "\n",
    "```python\n",
    "import math\n",
    "math.factorial(n) # n is the number you want to find the factorial of\n",
    "```"
   ]
  },
  {
   "cell_type": "code",
   "execution_count": 10,
   "metadata": {},
   "outputs": [
    {
     "name": "stdout",
     "output_type": "stream",
     "text": [
      "The probability of scoring 5 goals in a match: 0.054\n"
     ]
    }
   ],
   "source": [
    "# Average number of goals per match\n",
    "average_goals = 2.3\n",
    "\n",
    "# Number of goals we want to calculate the probability for\n",
    "k = 5\n",
    "\n",
    "# Calculate the probability using the Poisson distribution formula\n",
    "probability = (math.exp(-average_goals) * average_goals ** k) / math.factorial(k)\n",
    "\n",
    "# Print the probability\n",
    "print(f\"The probability of scoring 5 goals in a match: {probability:.3f}\")"
   ]
  },
  {
   "cell_type": "markdown",
   "metadata": {},
   "source": [
    "**Draw a poisson probability distribution plot for the number of goals to be between 0 to 10.**"
   ]
  },
  {
   "cell_type": "code",
   "execution_count": 11,
   "metadata": {},
   "outputs": [
    {
     "data": {
      "image/png": "[encoded data removed]",
      "text/plain": [
       "<Figure size 640x480 with 1 Axes>"
      ]
     },
     "metadata": {},
     "output_type": "display_data"
    }
   ],
   "source": [
    "# your code here\n",
    "# Please label the axes and give a title to the plot \n",
    "\n",
    "average_goals = 2.3\n",
    "\n",
    "# Define the range of number of goals\n",
    "goals_range = list(range(11))  # from 0 to 10\n",
    "\n",
    "# Calculate the probabilities for each number of goals\n",
    "probabilities = [math.exp(-average_goals) * (average_goals ** k) / math.factorial(k) for k in goals_range]\n",
    "\n",
    "# Plot the Poisson probability distribution\n",
    "plt.bar(goals_range, probabilities)\n",
    "plt.xlabel('Number of Goals')\n",
    "plt.ylabel('Probability')\n",
    "plt.title('Poisson Distribution - Number of Goals per Match')\n",
    "plt.show()"
   ]
  },
  {
   "cell_type": "code",
   "execution_count": null,
   "metadata": {},
   "outputs": [],
   "source": []
  }
 ],
 "metadata": {
  "kernelspec": {
   "display_name": "Python 3 (ipykernel)",
   "language": "python",
   "name": "python3"
  },
  "language_info": {
   "codemirror_mode": {
    "name": "ipython",
    "version": 3
   },
   "file_extension": ".py",
   "mimetype": "text/x-python",
   "name": "python",
   "nbconvert_exporter": "python",
   "pygments_lexer": "ipython3",
   "version": "3.9.13"
  }
 },
 "nbformat": 4,
 "nbformat_minor": 2
}
